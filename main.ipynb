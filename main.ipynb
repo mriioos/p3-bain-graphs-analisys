{
 "cells": [
  {
   "cell_type": "markdown",
   "id": "8f6ba9fd",
   "metadata": {},
   "source": [
    "**Introducción**\n",
    "\n",
    "API de la que extraeremos los datos:\n",
    "https://pokeapi.co/docs/v2\n",
    "\n",
    "Nodo (Pokémon):\n",
    "\n",
    "\n",
    "\n",
    "\n",
    "\n",
    "\n",
    "\n",
    "\n",
    "Nodo 1 (Pokemón):\n",
    "- Nombre\n",
    "\n",
    "Nodo 2 (Tipo de pokémon):\n",
    "- Nombre del tipo\n",
    "\n",
    "Relación 1 (no direccional, pokémon ~ tipo):\n",
    "- A que tipo pertence el pokemon (Pokemón)-[Pertece a]->(Tipo)\n",
    "\n",
    "Relacion 2 (direccional, tipo A -> tipo B):\n",
    "- Quien revienta a quien por tipo (Tipo A)-[Revienta a]->(Tipo B)\n",
    "- Peso: Eficacia de la reventación (?No se si esto tiene sentido?)\n",
    "\n",
    "Relación 2 (direccional, pokémon A -> pokémon B):\n",
    "- Quien evoluciona a quien"
   ]
  },
  {
   "cell_type": "markdown",
   "id": "1475981f",
   "metadata": {},
   "source": []
  }
 ],
 "metadata": {
  "kernelspec": {
   "display_name": ".env",
   "language": "python",
   "name": "python3"
  },
  "language_info": {
   "name": "python",
   "version": "3.12.5"
  }
 },
 "nbformat": 4,
 "nbformat_minor": 5
}
